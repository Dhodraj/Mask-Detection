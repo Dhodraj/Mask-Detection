{
 "cells": [
  {
   "cell_type": "code",
   "execution_count": 36,
   "id": "92b9d509",
   "metadata": {},
   "outputs": [],
   "source": [
    "import keras \n",
    "import os\n",
    "import numpy as np\n",
    "import cv2\n",
    "import tensorflow as tf\n",
    "from PIL import Image\n",
    "from tensorflow.keras.preprocessing.image import ImageDataGenerator\n",
    "from tensorflow.keras.preprocessing import image \n",
    "from tensorflow.keras.utils import to_categorical\n",
    "from tensorflow.keras.optimizers import RMSprop\n",
    "from keras.models import Sequential\n",
    "import keras\n",
    "from keras import layers\n",
    "from keras.layers import Flatten\n",
    "from sklearn.model_selection import train_test_split"
   ]
  },
  {
   "cell_type": "code",
   "execution_count": 37,
   "id": "682939f2",
   "metadata": {},
   "outputs": [
    {
     "data": {
      "text/plain": [
       "(50, 50, 3)"
      ]
     },
     "execution_count": 37,
     "metadata": {},
     "output_type": "execute_result"
    }
   ],
   "source": [
    "shapy=cv2.imread(\"C:/Users/ELCOT/Desktop/Mask/data/test/0/0.jpg\")\n",
    "shapy.shape"
   ]
  },
  {
   "cell_type": "code",
   "execution_count": 38,
   "id": "0964e599",
   "metadata": {},
   "outputs": [],
   "source": [
    "x,y=[],[]\n",
    "path=\"C:/Users/ELCOT/Desktop/Mask/data/test\"\n",
    "loc=os.listdir(path)\n",
    "for i in os.listdir(path):\n",
    "        for j in os.listdir(path+'/'+i):\n",
    "                im= Image.open(path+'/'+i+'/'+j)\n",
    "                im=im.resize((64,64),Image.ANTIALIAS)\n",
    "                im=np.array(im)\n",
    "                \n",
    "                x.append(im)\n",
    "                y.append(loc.index(i))\n",
    "x=np.array(x)\n",
    "y=to_categorical(y,num_classes=len(loc))"
   ]
  },
  {
   "cell_type": "code",
   "execution_count": 39,
   "id": "38ffec0b",
   "metadata": {},
   "outputs": [
    {
     "data": {
      "text/plain": [
       "((2828, 64, 64, 3), (2828, 3))"
      ]
     },
     "execution_count": 39,
     "metadata": {},
     "output_type": "execute_result"
    }
   ],
   "source": [
    "x.shape,y.shape"
   ]
  },
  {
   "cell_type": "code",
   "execution_count": 40,
   "id": "f351bf4c",
   "metadata": {},
   "outputs": [],
   "source": [
    "x_train,x_test,y_train,y_test=train_test_split(x,y,train_size=0.80,shuffle=True,random_state=True)\n",
    "x_t,x_val,y_t,y_val=train_test_split(x_train,y_train,train_size=0.80,shuffle=True,random_state=True)"
   ]
  },
  {
   "cell_type": "code",
   "execution_count": 42,
   "id": "3382afeb",
   "metadata": {},
   "outputs": [
    {
     "name": "stdout",
     "output_type": "stream",
     "text": [
      "WARNING:tensorflow:Please add `keras.layers.InputLayer` instead of `keras.Input` to Sequential model. `keras.Input` is intended to be used by Functional model.\n",
      "Model: \"sequential_6\"\n",
      "_________________________________________________________________\n",
      "Layer (type)                 Output Shape              Param #   \n",
      "=================================================================\n",
      "conv2d_13 (Conv2D)           (None, 12, 12, 34)        2584      \n",
      "_________________________________________________________________\n",
      "conv2d_14 (Conv2D)           (None, 4, 4, 64)          19648     \n",
      "_________________________________________________________________\n",
      "max_pooling2d_6 (MaxPooling2 (None, 1, 1, 64)          0         \n",
      "=================================================================\n",
      "Total params: 22,232\n",
      "Trainable params: 22,232\n",
      "Non-trainable params: 0\n",
      "_________________________________________________________________\n",
      "Epoch 1/50\n",
      "19/19 [==============================] - 8s 159ms/step - loss: 4.1439 - accuracy: 0.5653 - val_loss: 0.1846 - val_accuracy: 0.9227\n",
      "Epoch 2/50\n",
      "19/19 [==============================] - 2s 104ms/step - loss: 0.2007 - accuracy: 0.9253 - val_loss: 0.0926 - val_accuracy: 0.9757\n",
      "Epoch 3/50\n",
      "19/19 [==============================] - 2s 108ms/step - loss: 0.0612 - accuracy: 0.9783 - val_loss: 0.0548 - val_accuracy: 0.9823\n",
      "Epoch 4/50\n",
      "19/19 [==============================] - 2s 114ms/step - loss: 0.0556 - accuracy: 0.9802 - val_loss: 0.0477 - val_accuracy: 0.9845\n",
      "Epoch 5/50\n",
      "19/19 [==============================] - 2s 111ms/step - loss: 0.0250 - accuracy: 0.9937 - val_loss: 0.0494 - val_accuracy: 0.9823\n",
      "Epoch 6/50\n",
      "19/19 [==============================] - 2s 106ms/step - loss: 0.0226 - accuracy: 0.9916 - val_loss: 0.0496 - val_accuracy: 0.9801\n",
      "Epoch 7/50\n",
      "19/19 [==============================] - 2s 90ms/step - loss: 0.0173 - accuracy: 0.9949 - val_loss: 0.0420 - val_accuracy: 0.9845\n",
      "Epoch 8/50\n",
      "19/19 [==============================] - 2s 88ms/step - loss: 0.0099 - accuracy: 0.9953 - val_loss: 0.0310 - val_accuracy: 0.9890\n",
      "Epoch 9/50\n",
      "19/19 [==============================] - 2s 93ms/step - loss: 0.0038 - accuracy: 0.9990 - val_loss: 0.0261 - val_accuracy: 0.9868\n",
      "Epoch 10/50\n",
      "19/19 [==============================] - 2s 94ms/step - loss: 0.0025 - accuracy: 0.9993 - val_loss: 0.0492 - val_accuracy: 0.9845\n",
      "Epoch 11/50\n",
      "19/19 [==============================] - 2s 88ms/step - loss: 0.0107 - accuracy: 0.9962 - val_loss: 0.0729 - val_accuracy: 0.9779\n",
      "Epoch 12/50\n",
      "19/19 [==============================] - 2s 97ms/step - loss: 0.0101 - accuracy: 0.9964 - val_loss: 0.0250 - val_accuracy: 0.9912\n",
      "Epoch 13/50\n",
      "19/19 [==============================] - 2s 110ms/step - loss: 0.0016 - accuracy: 1.0000 - val_loss: 0.0272 - val_accuracy: 0.9934\n",
      "Epoch 14/50\n",
      "19/19 [==============================] - 2s 107ms/step - loss: 6.1899e-04 - accuracy: 1.0000 - val_loss: 0.0283 - val_accuracy: 0.9934\n",
      "Epoch 15/50\n",
      "19/19 [==============================] - 2s 109ms/step - loss: 3.9476e-04 - accuracy: 1.0000 - val_loss: 0.0270 - val_accuracy: 0.9912\n",
      "Epoch 16/50\n",
      "19/19 [==============================] - 2s 108ms/step - loss: 1.6936e-04 - accuracy: 1.0000 - val_loss: 0.0267 - val_accuracy: 0.9934\n",
      "Epoch 17/50\n",
      "19/19 [==============================] - 2s 100ms/step - loss: 1.5181e-04 - accuracy: 1.0000 - val_loss: 0.0271 - val_accuracy: 0.9934\n",
      "Epoch 18/50\n",
      "19/19 [==============================] - 2s 93ms/step - loss: 1.0603e-04 - accuracy: 1.0000 - val_loss: 0.0270 - val_accuracy: 0.9934\n",
      "Epoch 19/50\n",
      "19/19 [==============================] - 2s 89ms/step - loss: 1.0307e-04 - accuracy: 1.0000 - val_loss: 0.0274 - val_accuracy: 0.9934\n",
      "Epoch 20/50\n",
      "19/19 [==============================] - 2s 88ms/step - loss: 6.9518e-05 - accuracy: 1.0000 - val_loss: 0.0263 - val_accuracy: 0.9912\n",
      "Epoch 21/50\n",
      "19/19 [==============================] - 2s 94ms/step - loss: 7.3701e-05 - accuracy: 1.0000 - val_loss: 0.0267 - val_accuracy: 0.9934\n",
      "Epoch 22/50\n",
      "19/19 [==============================] - 2s 90ms/step - loss: 5.3722e-05 - accuracy: 1.0000 - val_loss: 0.0261 - val_accuracy: 0.9912\n",
      "Epoch 23/50\n",
      "19/19 [==============================] - 3s 155ms/step - loss: 6.7114e-05 - accuracy: 1.0000 - val_loss: 0.0274 - val_accuracy: 0.9934\n",
      "Epoch 24/50\n",
      "19/19 [==============================] - 2s 117ms/step - loss: 2.1822e-05 - accuracy: 1.0000 - val_loss: 0.0295 - val_accuracy: 0.9956\n",
      "Epoch 25/50\n",
      "19/19 [==============================] - 2s 110ms/step - loss: 1.5418e-05 - accuracy: 1.0000 - val_loss: 0.0319 - val_accuracy: 0.9956\n",
      "Epoch 26/50\n",
      "19/19 [==============================] - 2s 109ms/step - loss: 1.2968e-05 - accuracy: 1.0000 - val_loss: 0.0301 - val_accuracy: 0.9912\n",
      "Epoch 27/50\n",
      "19/19 [==============================] - 2s 110ms/step - loss: 1.8429e-05 - accuracy: 1.0000 - val_loss: 0.0336 - val_accuracy: 0.9934\n",
      "Epoch 28/50\n",
      "19/19 [==============================] - 2s 92ms/step - loss: 6.8598e-06 - accuracy: 1.0000 - val_loss: 0.0341 - val_accuracy: 0.9934\n",
      "Epoch 29/50\n",
      "19/19 [==============================] - 2s 92ms/step - loss: 9.3618e-06 - accuracy: 1.0000 - val_loss: 0.0360 - val_accuracy: 0.9934\n",
      "Epoch 30/50\n",
      "19/19 [==============================] - 2s 97ms/step - loss: 5.3461e-06 - accuracy: 1.0000 - val_loss: 0.0361 - val_accuracy: 0.9934\n",
      "Epoch 31/50\n",
      "19/19 [==============================] - 2s 131ms/step - loss: 4.2471e-06 - accuracy: 1.0000 - val_loss: 0.0375 - val_accuracy: 0.9934\n",
      "Epoch 32/50\n",
      "19/19 [==============================] - 2s 94ms/step - loss: 3.6621e-06 - accuracy: 1.0000 - val_loss: 0.0380 - val_accuracy: 0.9934\n",
      "Epoch 33/50\n",
      "19/19 [==============================] - 2s 88ms/step - loss: 3.5893e-06 - accuracy: 1.0000 - val_loss: 0.0389 - val_accuracy: 0.9934\n",
      "Epoch 34/50\n",
      "19/19 [==============================] - 2s 112ms/step - loss: 3.3010e-06 - accuracy: 1.0000 - val_loss: 0.0391 - val_accuracy: 0.9934\n",
      "Epoch 35/50\n",
      "19/19 [==============================] - 2s 97ms/step - loss: 2.4943e-06 - accuracy: 1.0000 - val_loss: 0.0406 - val_accuracy: 0.9934\n",
      "Epoch 36/50\n",
      "19/19 [==============================] - 2s 98ms/step - loss: 2.1528e-06 - accuracy: 1.0000 - val_loss: 0.0408 - val_accuracy: 0.9934\n",
      "Epoch 37/50\n",
      "19/19 [==============================] - 2s 97ms/step - loss: 1.6568e-06 - accuracy: 1.0000 - val_loss: 0.0414 - val_accuracy: 0.9934\n",
      "Epoch 38/50\n",
      "19/19 [==============================] - 2s 90ms/step - loss: 2.2094e-06 - accuracy: 1.0000 - val_loss: 0.0415 - val_accuracy: 0.9934\n",
      "Epoch 39/50\n",
      "19/19 [==============================] - 2s 99ms/step - loss: 2.0702e-06 - accuracy: 1.0000 - val_loss: 0.0426 - val_accuracy: 0.9934\n",
      "Epoch 40/50\n",
      "19/19 [==============================] - 3s 140ms/step - loss: 1.8211e-06 - accuracy: 1.0000 - val_loss: 0.0428 - val_accuracy: 0.9934\n",
      "Epoch 41/50\n",
      "19/19 [==============================] - 2s 129ms/step - loss: 1.5282e-06 - accuracy: 1.0000 - val_loss: 0.0430 - val_accuracy: 0.9934\n",
      "Epoch 42/50\n",
      "19/19 [==============================] - 2s 123ms/step - loss: 1.3918e-06 - accuracy: 1.0000 - val_loss: 0.0432 - val_accuracy: 0.9934\n",
      "Epoch 43/50\n",
      "19/19 [==============================] - 2s 119ms/step - loss: 1.2376e-06 - accuracy: 1.0000 - val_loss: 0.0436 - val_accuracy: 0.9934\n",
      "Epoch 44/50\n",
      "19/19 [==============================] - 2s 110ms/step - loss: 1.0627e-06 - accuracy: 1.0000 - val_loss: 0.0440 - val_accuracy: 0.9934\n",
      "Epoch 45/50\n",
      "19/19 [==============================] - 2s 126ms/step - loss: 1.2147e-06 - accuracy: 1.0000 - val_loss: 0.0440 - val_accuracy: 0.9934\n",
      "Epoch 46/50\n",
      "19/19 [==============================] - 2s 116ms/step - loss: 1.0826e-06 - accuracy: 1.0000 - val_loss: 0.0447 - val_accuracy: 0.9934\n",
      "Epoch 47/50\n",
      "19/19 [==============================] - 2s 117ms/step - loss: 8.1075e-07 - accuracy: 1.0000 - val_loss: 0.0450 - val_accuracy: 0.9934\n",
      "Epoch 48/50\n",
      "19/19 [==============================] - 2s 114ms/step - loss: 9.3250e-07 - accuracy: 1.0000 - val_loss: 0.0450 - val_accuracy: 0.9934\n",
      "Epoch 49/50\n",
      "19/19 [==============================] - 2s 116ms/step - loss: 9.1132e-07 - accuracy: 1.0000 - val_loss: 0.0453 - val_accuracy: 0.9934\n",
      "Epoch 50/50\n",
      "19/19 [==============================] - 2s 102ms/step - loss: 8.5012e-07 - accuracy: 1.0000 - val_loss: 0.0458 - val_accuracy: 0.9934\n"
     ]
    }
   ],
   "source": [
    "model=Sequential()\n",
    "model.add(keras.Input(shape=(64,64,3)))\n",
    "model.add(layers.Conv2D(34,5,strides=5,activation=\"relu\"))\n",
    "model.add(layers.Conv2D(64,3,strides=3,activation=\"relu\"))\n",
    "model.add(layers.MaxPooling2D(3))\n",
    "model.summary()\n",
    "model.add(layers.GlobalMaxPooling2D())\n",
    "model.add(Flatten())\n",
    "model.add(layers.Dense(512,activation=\"relu\"))\n",
    "model.add(layers.Dense(256,activation=\"relu\"))\n",
    "model.add(layers.Dense(32,activation=\"relu\"))\n",
    "model.add(layers.Dense(3, activation = 'softmax'))\n",
    "model.compile(optimizer = 'adam', loss = 'categorical_crossentropy', metrics = ['accuracy'])\n",
    "history=model.fit(x_t,y_t,validation_data=(x_val,y_val),epochs = 50,batch_size =100)"
   ]
  },
  {
   "cell_type": "code",
   "execution_count": 43,
   "id": "3dfba1e6",
   "metadata": {},
   "outputs": [],
   "source": [
    "model.save('C:/Users/ELCOT/Desktop/Mask/model.h5')"
   ]
  },
  {
   "cell_type": "code",
   "execution_count": 44,
   "id": "e6ad7e73",
   "metadata": {},
   "outputs": [],
   "source": [
    "predict_val=model.predict(x_test)\n",
    "t=np.argmax(predict_val,axis=-1)"
   ]
  },
  {
   "cell_type": "code",
   "execution_count": 45,
   "id": "16769524",
   "metadata": {},
   "outputs": [
    {
     "data": {
      "text/plain": [
       "array([[276,   7,   0],\n",
       "       [  4, 124,   1],\n",
       "       [  0,   0, 154]], dtype=int64)"
      ]
     },
     "execution_count": 45,
     "metadata": {},
     "output_type": "execute_result"
    }
   ],
   "source": [
    "from sklearn.metrics import confusion_matrix,classification_report,accuracy_score\n",
    "confusion_matrix(t,np.argmax(y_test,axis=1))"
   ]
  },
  {
   "cell_type": "code",
   "execution_count": 46,
   "id": "5e19b22e",
   "metadata": {},
   "outputs": [
    {
     "data": {
      "text/plain": [
       "97.87985865724382"
      ]
     },
     "execution_count": 46,
     "metadata": {},
     "output_type": "execute_result"
    }
   ],
   "source": [
    "accuracy_score(t,np.argmax(y_test,axis=1))*100"
   ]
  },
  {
   "cell_type": "code",
   "execution_count": null,
   "id": "097d79cf",
   "metadata": {},
   "outputs": [],
   "source": []
  },
  {
   "cell_type": "code",
   "execution_count": null,
   "id": "3017bdbf",
   "metadata": {},
   "outputs": [],
   "source": []
  }
 ],
 "metadata": {
  "kernelspec": {
   "display_name": "Python 3",
   "language": "python",
   "name": "python3"
  },
  "language_info": {
   "codemirror_mode": {
    "name": "ipython",
    "version": 3
   },
   "file_extension": ".py",
   "mimetype": "text/x-python",
   "name": "python",
   "nbconvert_exporter": "python",
   "pygments_lexer": "ipython3",
   "version": "3.8.10"
  }
 },
 "nbformat": 4,
 "nbformat_minor": 5
}
